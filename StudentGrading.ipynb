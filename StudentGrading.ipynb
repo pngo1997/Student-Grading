{
 "cells": [
  {
   "cell_type": "code",
   "execution_count": 1,
   "id": "38021396-812e-4cb7-a29c-ad08847d70d3",
   "metadata": {},
   "outputs": [],
   "source": [
    "def jnfile():\n",
    "    '''Determine if assignment is a Jupyter Notebook file'''\n",
    "    file_type = input (\"Did the student submit a Jupyter Notebook File? \").lower()\n",
    "    #Asking user whether it is Jupyter Notebook file. Response will be converted to lowercase.\n",
    "    if file_type == 'y':\n",
    "        return True\n",
    "    else: return False\n",
    "    #Using if statement to check for condition satisfaction to support finalGrade() def.\n",
    "def name():\n",
    "    '''Determine if assignment includes author's name'''\n",
    "    author_name = input (\"Did the student include their name? \").lower()\n",
    "    #Asking user whether student includes their name. Response will be converted to lowercase.\n",
    "    if author_name == 'y':\n",
    "        return True\n",
    "    else: return False\n",
    "    #Using if statement to check for condition satisfaction to support finalGrade() def.\n",
    "def assign_num():\n",
    "    '''Determine if assignment includes assignment's number'''\n",
    "    assign_num = input (\"Did the student include their assignment number? \").lower()\n",
    "    #Asking user whether student includes their assignment's number. Response will be converted to lowercase.\n",
    "    if assign_num == 'y':\n",
    "        return True\n",
    "    else: return False\n",
    "    #Using if statement to check for condition satisfaction to support finalGrade() def.\n",
    "def honor():\n",
    "    '''Determine if assignment includes the honor statement'''\n",
    "    honor = input (\"Did the student include the honor statement? \").lower()\n",
    "    #Asking user whether student includes the honor statement. Response will be converted to lowercase.\n",
    "    if honor == 'y':\n",
    "        return True\n",
    "    else: return False\n",
    "    #Using if statement to check for condition satisfaction to support finalGrade() def.\n",
    "def computeGrade():\n",
    "    '''Determine student's total score which is sum of four responses for each criteria of the code'''\n",
    "    corr = float(input(\"Up to 10 points, how would you rank the correctness of the code with given \"\\\n",
    "                       \"specification?\"))\n",
    "    #Asking user to give score for correctness. Convert string to float incase user input rational number.\n",
    "    while corr<=0: \n",
    "            print(\"Please give score between 0 and 10, score cannot be negative\")\n",
    "            corr = float(input(\"Up to 10 points, how would you rank the correctness of the code with given \"\\\n",
    "                       \"specification?\"))\n",
    "    #while Loops to keep asking use to when they input negative number for score. \n",
    "    #Only stop when they input positive number.\n",
    "    eleg = float(input(\"Up of 10 points, how would you rank the elegance of the code (data structure \" \\\n",
    "                        \"selection, algorithm efficiency, function implementation, etc.)?\"))\n",
    "    #Asking user to give score for elegance. Convert string to float incase user input rational number.\n",
    "    while eleg<=0: \n",
    "        print(\"Please give score between 0 and 10, score cannot be negative\")\n",
    "        eleg = float(input(\"Up of 10 points, how would you rank the elegance of the code (data structure \" \\\n",
    "                           \"selection, algorithm efficiency, function implementation, etc.)?\"))\n",
    "    #while Loops to keep asking use to when they input negative number for score. \n",
    "    #Only stop when they input positive number.\n",
    "    hygi = float(input(\"Up to 10 points, how would you rank the hygiene of the code (white space, \" \\\n",
    "                          \"docstrings, etc.)?\"))\n",
    "    #Asking user to give score for hygiene. Convert string to float incase user input rational number.\n",
    "    while hygi<=0: \n",
    "        print(\"Please give score between 0 and 10, score cannot be negative\")\n",
    "        hygi = float(input(\"Up to 10 points, how would you rank the hygiene of the code (white space, \" \\\n",
    "                          \"docstrings, etc.)?\"))\n",
    "    #while Loops to keep asking use to when they input negative number for score. \n",
    "    #Only stop when they input positive number.\n",
    "    diss = float(input(\"Up to 10 points, how would you rank the quality of the discussion in the YouTube \"\\\n",
    "                       \"video?\"))\n",
    "    #Asking user to give score for discussion. Convert string to float incase user input rational number.\n",
    "    while diss<=0: \n",
    "        print(\"Please give score between 0 and 10, score cannot be negative\")\n",
    "        diss = float(input(\"Up to 10 points, how would you rank the quality of the discussion in the YouTube \"\\\n",
    "                       \"video?\"))\n",
    "    #while Loops to keep asking use to when they input negative number for score. \n",
    "    #Only stop when they input positive number.\n",
    "    total = corr + eleg + hygi + diss\n",
    "    #calculate the total score.\n",
    "    return total\n",
    "    #output total grade\n",
    "def finalGrade():\n",
    "    '''Calculate student's final grade after determine whether student submit assignment late. Late assignment lose 1% per hour.'''\n",
    "    print(\"Please answer only [y/n]\")\n",
    "    #A prompt to guide users answering questions.\n",
    "    if not jnfile():\n",
    "        return print ('Total grade: 0, you did not submitted as a Jupyter Notebook file.')\n",
    "    #If student did not submit as Jupyter Notebook file, the grade is 0. No further question needed.\n",
    "    if not name():\n",
    "        return print ('Total grade: 0, you did not include author\\'s name.')\n",
    "    #If student did not include author's name, the grade is 0. No further question needed.\n",
    "    if not assign_num():\n",
    "        return print ('Total grade: 0, you did not include the assignment number (0101).')\n",
    "    #If student did not include assignment's number, the grade is 0. No further question needed.\n",
    "    if not honor():\n",
    "        return print ('Total grade: 0, you did not include the honor statement.')\n",
    "    #If student did not include the honor statement, the grade is 0. No further question needed.\n",
    "    total = computeGrade()\n",
    "    #Calculate total grade using computeGrade() def after satisfies all of the above condition.\n",
    "    print(\"Please answer only [y/n]\")\n",
    "    #A prompt to guide users answering questions.\n",
    "    late = input (\"Did the student submit the assignment late? \").lower()\n",
    "    #Determine if student submit assignment late.\n",
    "    if late == 'y':\n",
    "    #If the answer is yes, moving forward to ask how many hour(s).\n",
    "        time = float(input(\"How many hour(s) late? \"))\n",
    "        #Asking user to give how many hour(s) late. Convert string to float incase user input rational number.\n",
    "        total = total - (total * 0.01 * time)\n",
    "        #Calculate the new total grade, by subtracting original total grade by 1% for each hour.\n",
    "        print ('Total grade:' + str(total) )\n",
    "        #Print total grade with late penalty. Convert total to string for concatenation.\n",
    "    else: return print ('Total grade:' + str(total))\n",
    "    #If the answer is 'no' for late, final grade would be the original computeGrade()."
   ]
  },
  {
   "cell_type": "code",
   "execution_count": 39,
   "id": "b51faa09-48db-4c72-a6f1-237a24200e25",
   "metadata": {},
   "outputs": [
    {
     "name": "stdout",
     "output_type": "stream",
     "text": [
      "Please answer only [y/n]\n"
     ]
    },
    {
     "name": "stdin",
     "output_type": "stream",
     "text": [
      "Did the student submit a Jupyter Notebook File?  n\n"
     ]
    },
    {
     "name": "stdout",
     "output_type": "stream",
     "text": [
      "Total grade: 0, you did not submitted as a Jupyter Notebook file.\n"
     ]
    }
   ],
   "source": [
    "finalGrade()"
   ]
  },
  {
   "cell_type": "code",
   "execution_count": 40,
   "id": "384f273f-32e6-4c8d-9653-dcce8a7b4948",
   "metadata": {},
   "outputs": [
    {
     "name": "stdout",
     "output_type": "stream",
     "text": [
      "Please answer only [y/n]\n"
     ]
    },
    {
     "name": "stdin",
     "output_type": "stream",
     "text": [
      "Did the student submit a Jupyter Notebook File?  y\n",
      "Did the student include their name?  n\n"
     ]
    },
    {
     "name": "stdout",
     "output_type": "stream",
     "text": [
      "Total grade: 0, you did not include author's name.\n"
     ]
    }
   ],
   "source": [
    "finalGrade()"
   ]
  },
  {
   "cell_type": "code",
   "execution_count": 41,
   "id": "a377ca73-0cbd-4908-87d4-8d525b091735",
   "metadata": {},
   "outputs": [
    {
     "name": "stdout",
     "output_type": "stream",
     "text": [
      "Please answer only [y/n]\n"
     ]
    },
    {
     "name": "stdin",
     "output_type": "stream",
     "text": [
      "Did the student submit a Jupyter Notebook File?  y\n",
      "Did the student include their name?  y\n",
      "Did the student include their assignment number?  n\n"
     ]
    },
    {
     "name": "stdout",
     "output_type": "stream",
     "text": [
      "Total grade: 0, you did not include the assignment number (0101).\n"
     ]
    }
   ],
   "source": [
    "finalGrade()"
   ]
  },
  {
   "cell_type": "code",
   "execution_count": 42,
   "id": "bb8aeff0-d0ed-4345-b570-37a9b60e4116",
   "metadata": {},
   "outputs": [
    {
     "name": "stdout",
     "output_type": "stream",
     "text": [
      "Please answer only [y/n]\n"
     ]
    },
    {
     "name": "stdin",
     "output_type": "stream",
     "text": [
      "Did the student submit a Jupyter Notebook File?  y\n",
      "Did the student include their name?  y\n",
      "Did the student include their assignment number?  y\n",
      "Did the student include the honor statement?  n\n"
     ]
    },
    {
     "name": "stdout",
     "output_type": "stream",
     "text": [
      "Total grade: 0, you did not include the honor statement.\n"
     ]
    }
   ],
   "source": [
    "finalGrade()"
   ]
  },
  {
   "cell_type": "code",
   "execution_count": 43,
   "id": "7c3c7be4-7114-4916-8b81-fd08fc990233",
   "metadata": {},
   "outputs": [
    {
     "name": "stdout",
     "output_type": "stream",
     "text": [
      "Please answer only [y/n]\n"
     ]
    },
    {
     "name": "stdin",
     "output_type": "stream",
     "text": [
      "Did the student submit a Jupyter Notebook File?  y\n",
      "Did the student include their name?  y\n",
      "Did the student include their assignment number?  y\n",
      "Did the student include the honor statement?  y\n",
      "Up to 10 points, how would you rank the correctness of the code with given specification? 6\n",
      "Up of 10 points, how would you rank the elegance of the code (data structure selection, algorithm efficiency, function implementation, etc.)? 7\n",
      "Up to 10 points, how would you rank the hygiene of the code (white space, docstrings, etc.)? 8\n",
      "Up to 10 points, how would you rank the quality of the discussion in the YouTube video? 9\n"
     ]
    },
    {
     "name": "stdout",
     "output_type": "stream",
     "text": [
      "Please answer only [y/n]\n"
     ]
    },
    {
     "name": "stdin",
     "output_type": "stream",
     "text": [
      "Did the student submit the assignment late?  n\n"
     ]
    },
    {
     "name": "stdout",
     "output_type": "stream",
     "text": [
      "Total grade:30.0\n"
     ]
    }
   ],
   "source": [
    "finalGrade()"
   ]
  },
  {
   "cell_type": "code",
   "execution_count": 44,
   "id": "b3bb5760-e0e1-4104-9c66-ac73cf1ea8d1",
   "metadata": {},
   "outputs": [
    {
     "name": "stdout",
     "output_type": "stream",
     "text": [
      "Please answer only [y/n]\n"
     ]
    },
    {
     "name": "stdin",
     "output_type": "stream",
     "text": [
      "Did the student submit a Jupyter Notebook File?  y\n",
      "Did the student include their name?  y\n",
      "Did the student include their assignment number?  y\n",
      "Did the student include the honor statement?  y\n",
      "Up to 10 points, how would you rank the correctness of the code with given specification? 7.8\n",
      "Up of 10 points, how would you rank the elegance of the code (data structure selection, algorithm efficiency, function implementation, etc.)? 5.6\n",
      "Up to 10 points, how would you rank the hygiene of the code (white space, docstrings, etc.)? 3.5\n",
      "Up to 10 points, how would you rank the quality of the discussion in the YouTube video? 7.8\n"
     ]
    },
    {
     "name": "stdout",
     "output_type": "stream",
     "text": [
      "Please answer only [y/n]\n"
     ]
    },
    {
     "name": "stdin",
     "output_type": "stream",
     "text": [
      "Did the student submit the assignment late?  y\n",
      "How many hour(s) late?  5\n"
     ]
    },
    {
     "name": "stdout",
     "output_type": "stream",
     "text": [
      "Total grade:23.465\n"
     ]
    }
   ],
   "source": [
    "finalGrade()"
   ]
  },
  {
   "cell_type": "code",
   "execution_count": 45,
   "id": "18bd3f03-77d8-4b46-af9e-0d028c188b4a",
   "metadata": {},
   "outputs": [
    {
     "name": "stdout",
     "output_type": "stream",
     "text": [
      "Please answer only [y/n]\n"
     ]
    },
    {
     "name": "stdin",
     "output_type": "stream",
     "text": [
      "Did the student submit a Jupyter Notebook File?  y\n",
      "Did the student include their name?  y\n",
      "Did the student include their assignment number?  y\n",
      "Did the student include the honor statement?  y\n",
      "Up to 10 points, how would you rank the correctness of the code with given specification? -5\n"
     ]
    },
    {
     "name": "stdout",
     "output_type": "stream",
     "text": [
      "Please give score between 0 and 10, score cannot be negative\n"
     ]
    },
    {
     "name": "stdin",
     "output_type": "stream",
     "text": [
      "Up to 10 points, how would you rank the correctness of the code with given specification? 8\n",
      "Up of 10 points, how would you rank the elegance of the code (data structure selection, algorithm efficiency, function implementation, etc.)? -3\n"
     ]
    },
    {
     "name": "stdout",
     "output_type": "stream",
     "text": [
      "Please give score between 0 and 10, score cannot be negative\n"
     ]
    },
    {
     "name": "stdin",
     "output_type": "stream",
     "text": [
      "Up of 10 points, how would you rank the elegance of the code (data structure selection, algorithm efficiency, function implementation, etc.)? 3\n",
      "Up to 10 points, how would you rank the hygiene of the code (white space, docstrings, etc.)? -2\n"
     ]
    },
    {
     "name": "stdout",
     "output_type": "stream",
     "text": [
      "Please give score between 0 and 10, score cannot be negative\n"
     ]
    },
    {
     "name": "stdin",
     "output_type": "stream",
     "text": [
      "Up to 10 points, how would you rank the hygiene of the code (white space, docstrings, etc.)? 2\n",
      "Up to 10 points, how would you rank the quality of the discussion in the YouTube video? -6\n"
     ]
    },
    {
     "name": "stdout",
     "output_type": "stream",
     "text": [
      "Please give score between 0 and 10, score cannot be negative\n"
     ]
    },
    {
     "name": "stdin",
     "output_type": "stream",
     "text": [
      "Up to 10 points, how would you rank the quality of the discussion in the YouTube video? 6\n"
     ]
    },
    {
     "name": "stdout",
     "output_type": "stream",
     "text": [
      "Please answer only [y/n]\n"
     ]
    },
    {
     "name": "stdin",
     "output_type": "stream",
     "text": [
      "Did the student submit the assignment late?  y\n",
      "How many hour(s) late?  3\n"
     ]
    },
    {
     "name": "stdout",
     "output_type": "stream",
     "text": [
      "Total grade:18.43\n"
     ]
    }
   ],
   "source": [
    "finalGrade()"
   ]
  },
  {
   "cell_type": "code",
   "execution_count": null,
   "id": "3967715d-a859-45b7-97f6-122d66304a27",
   "metadata": {},
   "outputs": [],
   "source": []
  }
 ],
 "metadata": {
  "kernelspec": {
   "display_name": "Python 3 (ipykernel)",
   "language": "python",
   "name": "python3"
  },
  "language_info": {
   "codemirror_mode": {
    "name": "ipython",
    "version": 3
   },
   "file_extension": ".py",
   "mimetype": "text/x-python",
   "name": "python",
   "nbconvert_exporter": "python",
   "pygments_lexer": "ipython3",
   "version": "3.9.13"
  }
 },
 "nbformat": 4,
 "nbformat_minor": 5
}
